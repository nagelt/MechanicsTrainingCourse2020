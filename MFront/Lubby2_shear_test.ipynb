{
 "cells": [
  {
   "cell_type": "markdown",
   "metadata": {},
   "source": [
    "# Simple shear test of Lubby2 Model"
   ]
  },
  {
   "cell_type": "code",
   "execution_count": 8,
   "metadata": {},
   "outputs": [
    {
     "ename": "ModuleNotFoundError",
     "evalue": "No module named 'tfel'",
     "output_type": "error",
     "traceback": [
      "\u001b[0;31m---------------------------------------------------------------------------\u001b[0m",
      "\u001b[0;31mModuleNotFoundError\u001b[0m                       Traceback (most recent call last)",
      "Cell \u001b[0;32mIn [8], line 1\u001b[0m\n\u001b[0;32m----> 1\u001b[0m \u001b[38;5;28;01mimport\u001b[39;00m \u001b[38;5;21;01mtfel\u001b[39;00m\u001b[38;5;21;01m.\u001b[39;00m\u001b[38;5;21;01mmath\u001b[39;00m\n\u001b[1;32m      2\u001b[0m \u001b[38;5;28;01mimport\u001b[39;00m \u001b[38;5;21;01mmtest\u001b[39;00m\n\u001b[1;32m      3\u001b[0m \u001b[38;5;28;01mimport\u001b[39;00m \u001b[38;5;21;01mnumpy\u001b[39;00m \u001b[38;5;28;01mas\u001b[39;00m \u001b[38;5;21;01mnp\u001b[39;00m\n",
      "\u001b[0;31mModuleNotFoundError\u001b[0m: No module named 'tfel'"
     ]
    }
   ],
   "source": [
    "import tfel.math\n",
    "import mtest\n",
    "import numpy as np\n",
    "import matplotlib.pyplot as plt\n",
    "import os\n",
    "plt.rcParams.update({'font.size': 16})"
   ]
  },
  {
   "cell_type": "code",
   "execution_count": 2,
   "metadata": {},
   "outputs": [],
   "source": [
    "GM0  = 9.54e3\n",
    "KM0  = 2.78e4\n",
    "GK0  = 6.27e4\n",
    "mK   = -0.254\n",
    "mvK  = -0.327\n",
    "mvM  = -0.267\n",
    "etaK0= 1.66e5\n",
    "etaM0= 4.03e7\n",
    "tmax = 15.\n",
    "\n",
    "shear_stress = 5."
   ]
  },
  {
   "cell_type": "code",
   "execution_count": null,
   "metadata": {},
   "outputs": [],
   "source": [
    "build_release = 'mfront --obuild --interface=generic Lubby2mod.mfront'\n",
    "#build_debug = 'mfront --obuild --interface=generic --debug Lubby2mod.mfront'\n",
    "os.system(build_release)"
   ]
  },
  {
   "cell_type": "code",
   "execution_count": null,
   "metadata": {},
   "outputs": [],
   "source": [
    "m    = mtest.MTest()\n",
    "m.setMaximumNumberOfSubSteps(1)\n",
    "m.setBehaviour('generic', './src/libBehaviour.so', 'Lubby2mod')"
   ]
  },
  {
   "cell_type": "code",
   "execution_count": null,
   "metadata": {},
   "outputs": [],
   "source": [
    "m.setExternalStateVariable(\"Temperature\", 293.15)\n",
    "m.setImposedStress('SXX', 0.0)\n",
    "m.setImposedStress('SYY', 0.0)\n",
    "m.setImposedStress('SZZ', 0.0)\n",
    "m.setImposedStress('SXZ', 0.0)\n",
    "m.setImposedStress('SYZ', 0.0)\n",
    "m.setImposedStress('SXY', {0: 0, 1.e-5 : shear_stress * np.sqrt(2.), tmax : shear_stress * np.sqrt(2.)}) #Kelvin Mapping of shear components!!"
   ]
  },
  {
   "cell_type": "code",
   "execution_count": null,
   "metadata": {},
   "outputs": [],
   "source": [
    "m.setMaterialProperty('YoungModulus', (9 * GM0 * KM0) / (3 * KM0 + GM0))\n",
    "m.setMaterialProperty('PoissonRatio', (3 * KM0 - 2 * GM0) / (2 * GM0 + 6 * KM0))\n",
    "m.setMaterialProperty('KelvinShearModulus', GK0)\n",
    "m.setMaterialProperty('KelvinViscosity', etaK0)\n",
    "m.setMaterialProperty('MaxwellViscosity', etaM0)\n",
    "m.setMaterialProperty('KelvinElasticParameter', mK)\n",
    "m.setMaterialProperty('MaxwellViscoParameter', mvM)\n",
    "m.setMaterialProperty('KelvinViscoParameter', mvK)"
   ]
  },
  {
   "cell_type": "code",
   "execution_count": null,
   "metadata": {},
   "outputs": [],
   "source": [
    "def analytical_solution(t):\n",
    "    sig_eff = np.sqrt(3.)*shear_stress\n",
    "    \n",
    "    shear_softening = lambda P0, m, seff: P0 * np.exp(m*seff)\n",
    "\n",
    "    GK=shear_softening(GK0,mK,sig_eff)\n",
    "    etaK=shear_softening(etaK0,mvK,sig_eff)\n",
    "    etaM=shear_softening(etaM0,mvM,sig_eff)\n",
    "\n",
    "    return ((1./GM0 + t/etaM)*shear_stress + 1./GK*(1.-np.exp(-GK/etaK*t))*shear_stress)/2."
   ]
  },
  {
   "cell_type": "code",
   "execution_count": null,
   "metadata": {},
   "outputs": [],
   "source": [
    "s = mtest.MTestCurrentState()\n",
    "wk = mtest.MTestWorkSpace()\n",
    "m.completeInitialisation()\n",
    "m.initializeCurrentState(s)\n",
    "m.initializeWorkSpace(wk)"
   ]
  },
  {
   "cell_type": "code",
   "execution_count": null,
   "metadata": {},
   "outputs": [],
   "source": [
    "def run_sim(t_discrete):\n",
    "    numerical = np.array([0.])\n",
    "    for i in range(len(t_discrete)-1):\n",
    "        m.execute(s, wk, t_discrete[i], t_discrete[i + 1])\n",
    "        numerical = np.append(numerical,s.e1[3]/np.sqrt(2.)) #Kelvin mapping backwards!\n",
    "    return numerical"
   ]
  },
  {
   "cell_type": "code",
   "execution_count": null,
   "metadata": {},
   "outputs": [],
   "source": [
    "times = np.append(np.linspace(0,1e-5,10),np.linspace(2.e-5,tmax,20))\n",
    "numerical = run_sim(times)"
   ]
  },
  {
   "cell_type": "code",
   "execution_count": null,
   "metadata": {},
   "outputs": [],
   "source": [
    "fig,ax = plt.subplots(figsize=(12,8))\n",
    "ax.plot(times,numerical*100.,label='numerical',ls='',marker='d')\n",
    "ax.plot(np.linspace(0,tmax,100),analytical_solution(np.linspace(0,tmax,100))*100.,label='analytical')\n",
    "ax.set_xlabel('$t$ / d')\n",
    "ax.set_ylabel('$\\\\epsilon_{xy}$ / %')\n",
    "fig.tight_layout();\n",
    "ax.legend();"
   ]
  },
  {
   "cell_type": "code",
   "execution_count": null,
   "metadata": {},
   "outputs": [],
   "source": []
  }
 ],
 "metadata": {
  "kernelspec": {
   "display_name": "Python 3 (ipykernel)",
   "language": "python",
   "name": "python3"
  },
  "language_info": {
   "codemirror_mode": {
    "name": "ipython",
    "version": 3
   },
   "file_extension": ".py",
   "mimetype": "text/x-python",
   "name": "python",
   "nbconvert_exporter": "python",
   "pygments_lexer": "ipython3",
   "version": "3.11.2"
  }
 },
 "nbformat": 4,
 "nbformat_minor": 4
}
