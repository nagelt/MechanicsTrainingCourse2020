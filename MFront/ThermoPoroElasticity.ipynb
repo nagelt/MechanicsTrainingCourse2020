{
 "cells": [
  {
   "cell_type": "markdown",
   "metadata": {},
   "source": [
    "![Logo TUBAF](https://tu-freiberg.de/sites/default/files/media/freiberger-alumni-netzwerk-6127/wbm_orig_rgb_0.jpg)\n",
    "\n",
    "Comments to:\n",
    "\n",
    "*Prof. Dr. Thomas Nagel  \n",
    "Chair of Soil Mechanics and Foundation Engineering  \n",
    "Geotechnical Institute  \n",
    "Technische Universität Bergakademie Freiberg.*\n",
    "\n",
    "https://tu-freiberg.de/en/soilmechanics"
   ]
  },
  {
   "cell_type": "markdown",
   "metadata": {
    "tags": []
   },
   "source": [
    "# A simple monolithic thermo-poro-elastic MFront model\n",
    "\n",
    "The constitutive content of the MFront file is not complete. Some quantities remain to be calculated by OGS MPL.\n",
    "\n",
    "**List of drivers/gradients**\n",
    "\n",
    "* Temperature $T$ is treated automatically as an external state variable\n",
    "* Temperature gradient $\\nabla T$\n",
    "* Liquid pressure gradient $\\nabla p_\\text{LR}$\n",
    "* Capillary pressure $p_\\text{cap}$\n",
    "* Strain tensor $\\boldsymbol\\epsilon$"
   ]
  },
  {
   "cell_type": "markdown",
   "metadata": {
    "tags": []
   },
   "source": [
    "**Calculated quantities / fluxes / forces**\n",
    "\n",
    "Total stress\n",
    "\n",
    "\\begin{align*}\n",
    "    \\boldsymbol \\sigma &= \\boldsymbol{\\sigma}' - \\alpha_\\text{B} \\chi(S_\\text{L}) p_\\text{LR} \\mathbf{I}\n",
    "    \\\\\n",
    "    \\text{with}&\n",
    "    \\\\\n",
    "    \\boldsymbol{\\sigma}' &= {}^t \\boldsymbol{\\sigma}' + K\\,\\text{tr}\\,(\\Delta \\boldsymbol\\epsilon - \\alpha_{T\\text{S}} \\Delta T \\mathbf{I}) \\,\\mathbf{I} + 2 \\mu \\Delta \\boldsymbol\\epsilon^\\text{D}\n",
    "    \\\\\n",
    "    \\chi(S_\\text{L}) &= S_\\text{L}^{m_\\chi}\n",
    "    \\\\\n",
    "    S_\\text{L} &= \\dots\n",
    "\\end{align*}\n",
    "\n",
    "Liquid density\n",
    "\n",
    "\\begin{align}\n",
    "    \\varrho_\\text{LR} &= \\varrho_0 \\left[ 1 + \\beta_p (p_\\text{LR} - p_\\text{LR}^\\text{ref}) - \\beta_T (T - T^\\text{ref}) \\right]\n",
    "\\end{align}\n",
    "\n",
    "Darcy flux\n",
    "\n",
    "\\begin{align}\n",
    "    \\tilde{\\mathbf{w}}_\\text{LS} &= - \\frac{\\mathbf{k} k_\\text{LR}(S_\\text{L})}{\\mu_\\text{LR}} \\left( \\text{grad} p_\\text{LR} - \\varrho_\\text{LR} \\mathbf{g} \\right)\n",
    "    \\\\\n",
    "    \\text{with}&\n",
    "    \\\\\n",
    "    k_\\text{LR}(S_\\text{L}) &= \\dots\n",
    "\\end{align}\n",
    "\n",
    "Conductive Heat flux\n",
    "\n",
    "\\begin{align}\n",
    "    \\mathbf{q}_\\text{th} &= - \\boldsymbol\\lambda_\\text{eff}\\, \\text{grad}T\n",
    "    \\\\\n",
    "    \\text{with}&\n",
    "    \\\\\n",
    "    \\boldsymbol\\lambda_\\text{eff} &= \\dots\n",
    "\\end{align}\n",
    "\n",
    "This can be extended towards heat capacity, advection transport, etc.\n",
    "\n",
    "For the full formulation see our Overleaf."
   ]
  },
  {
   "cell_type": "markdown",
   "metadata": {
    "tags": []
   },
   "source": [
    "## Simplified version -- only stress calculation\n",
    "\n",
    "For a first trial run in OGS we use the following reduced model. The idea is to switch the weak momentum balance to a total stress formulation. The important change is the following term which contains no more reference to the effective stress principle:\n",
    "\n",
    "\\begin{align}\n",
    "    r_u &\\mathrel{+}= \\int \\limits_\\Omega { \\boldsymbol{\\sigma} \\mathbf{:} \\text{grad} \\mathbf{v}_u }\\,\\text{d}\\Omega\n",
    "\\end{align}\n",
    "\n",
    "\\textbf{Linearization} can now proceed in a general fashion.\n",
    "\n",
    "\\begin{align}\n",
    "    \\text{D}_{\\Delta u} r_u &\\mathrel{+}= \\int \\limits_\\Omega {\\left[ \\text{grad} \\mathbf{v}_u \\mathbf{:} \\frac{\\partial \\boldsymbol{\\sigma}}{\\partial \\boldsymbol{\\epsilon}} \\mathbf{:} \\Delta \\boldsymbol{\\epsilon} \\right]}\\,\\text{d}\\Omega \\quad \\text{with  } \\Delta \\boldsymbol{\\epsilon} = \\text{sym grad}\\Delta \\mathbf{u}\n",
    "    \\\\\n",
    "    \\text{D}_{\\Delta p} r_u &\\mathrel{+}= \\int \\limits_\\Omega{\\left[ \\text{grad} \\mathbf{v}_u \\mathbf{:} \\frac{\\partial \\boldsymbol{\\sigma}}{\\partial p_\\text{LR}} \\Delta p_\\text{LR} \\right]}\\,\\text{d}\\Omega\n",
    "    \\\\\n",
    "    \\text{D}_{\\Delta T} r_u &\\mathrel{+}= \\int \\limits_\\Omega{\\left[ \\text{grad} \\mathbf{v}_u \\mathbf{:} \\frac{\\partial \\boldsymbol{\\sigma}}{\\partial T} \\Delta T \\right]}\\,\\text{d}\\Omega\n",
    "\\end{align}"
   ]
  },
  {
   "cell_type": "markdown",
   "metadata": {
    "tags": []
   },
   "source": [
    "This leads to a reduced \n",
    "\n",
    "**List of drivers/gradients**\n",
    "\n",
    "* Temperature $T$ is treated automatically as an external state variable\n",
    "* Liquid pressure $p_\\text{LR}$\n",
    "* Strain tensor $\\boldsymbol\\epsilon$"
   ]
  },
  {
   "cell_type": "markdown",
   "metadata": {
    "tags": []
   },
   "source": [
    "Our model then computes the following\n",
    "\n",
    "**Fluxes/forces/states**\n",
    "\n",
    "Total stress\n",
    "\n",
    "\\begin{align*}\n",
    "    \\boldsymbol \\sigma &= \\boldsymbol{\\sigma}' - \\alpha_\\text{B} \\chi(S_\\text{L}) p_\\text{LR} \\mathbf{I}\n",
    "    \\\\\\\\\n",
    "    \\text{with}&\n",
    "    \\\\\n",
    "    \\boldsymbol{\\sigma}' &= {}^t \\boldsymbol{\\sigma}' + K\\,\\text{tr}\\,(\\Delta \\boldsymbol\\epsilon - \\alpha_{T\\text{S}} \\Delta T \\mathbf{I}) \\,\\mathbf{I} + 2 \\mu \\Delta \\boldsymbol\\epsilon^\\text{D}\n",
    "    \\\\\n",
    "    \\chi(S_\\text{L}) &= S_\\text{L}^{m_\\chi}\n",
    "    \\\\\n",
    "    S_\\text{L}(p_\\text{cap} = -p_\\text{LR}) &= \\dots\n",
    "\\end{align*}\n",
    "\n",
    "where Richards was assumed. Note also that all these derivatives are explicit and no iteration is required."
   ]
  },
  {
   "cell_type": "markdown",
   "metadata": {
    "tags": []
   },
   "source": [
    "The following derivatives required in the weak form Jacobian are then specified\n",
    "\n",
    "\\begin{align}\n",
    "    \\frac{\\partial \\boldsymbol{\\sigma}}{\\partial \\boldsymbol{\\epsilon}} &= \\frac{\\partial \\boldsymbol{\\sigma}'}{\\partial \\Delta \\boldsymbol{\\epsilon}_\\text{el}} = \\lambda \\mathbf{I} \\otimes \\mathbf{I} + 2\\mu \\mathbf{I}\\odot\\mathbf{I}\n",
    "    \\\\\n",
    "    \\frac{\\partial \\boldsymbol{\\sigma}}{\\partial p_\\text{LR}} &= -\\alpha_\\text{B} \\left( \\chi(S_\\text{L}) - m_\\chi S_\\text{L}^{m_\\chi -1} \\frac{\\partial S_\\text{L}}{\\partial p_\\text{cap}} p_\\text{LR} \\right) \\mathbf{I}\n",
    "    \\\\\n",
    "    \\frac{\\partial \\boldsymbol{\\sigma}}{\\partial T} &= - 3 K \\alpha_{T\\text{S}}\\mathbf{I} \n",
    "\\end{align}"
   ]
  },
  {
   "cell_type": "code",
   "execution_count": 17,
   "metadata": {},
   "outputs": [],
   "source": [
    "#HIDDEN\n",
    "import mtest\n",
    "import tfel.tests\n",
    "import numpy as np\n",
    "import matplotlib.pyplot as plt\n",
    "import os\n",
    "import plot_settings\n",
    "mtest.setVerboseMode(mtest.VerboseLevel.VERBOSE_QUIET)"
   ]
  },
  {
   "cell_type": "code",
   "execution_count": 18,
   "metadata": {},
   "outputs": [
    {
     "name": "stdout",
     "output_type": "stream",
     "text": [
      "Treating target : all\n",
      "The following library has been built :\n",
      "- libBehaviour.so :  GuentherSalzer_AxisymmetricalGeneralisedPlaneStrain GuentherSalzer_AxisymmetricalGeneralisedPlaneStress GuentherSalzer_Axisymmetrical GuentherSalzer_PlaneStress GuentherSalzer_PlaneStrain GuentherSalzer_GeneralisedPlaneStrain GuentherSalzer_Tridimensional PowerLawLinearCreep_AxisymmetricalGeneralisedPlaneStrain PowerLawLinearCreep_AxisymmetricalGeneralisedPlaneStress PowerLawLinearCreep_Axisymmetrical PowerLawLinearCreep_PlaneStress PowerLawLinearCreep_PlaneStrain PowerLawLinearCreep_GeneralisedPlaneStrain PowerLawLinearCreep_Tridimensional ThermoPoroElasticity_AxisymmetricalGeneralisedPlaneStrain ThermoPoroElasticity_Axisymmetrical ThermoPoroElasticity_PlaneStrain ThermoPoroElasticity_GeneralisedPlaneStrain ThermoPoroElasticity_Tridimensional\n"
     ]
    },
    {
     "data": {
      "text/plain": [
       "0"
      ]
     },
     "execution_count": 18,
     "metadata": {},
     "output_type": "execute_result"
    }
   ],
   "source": [
    "#HIDDEN\n",
    "os.system('mfront --obuild --interface=generic ThermoPoroElasticity.mfront')"
   ]
  },
  {
   "cell_type": "code",
   "execution_count": 19,
   "metadata": {},
   "outputs": [],
   "source": [
    "#HIDDEN\n",
    "def isochoric_drained_heating(external_MTest = False):\n",
    "    if external_MTest:\n",
    "        os.system('mtest ThermoPoroElasticity.mtest')\n",
    "    else:\n",
    "        m    = mtest.MTest()\n",
    "        m.setMaximumNumberOfSubSteps(1)\n",
    "        m.setBehaviour('generic', './src/libBehaviour.so', 'ThermoPoroElasticity')\n",
    "        m.setGradientsInitialValues([0, 0, 0, 0, 0, 0, 0])\n",
    "        m.setThermodynamicForcesInitialValues([-1e5,-1e5,-1e5, 0, 0, 0, 1.0])\n",
    "        m.setImposedGradient('StrainXX', 0)\n",
    "        m.setImposedGradient('StrainYY', 0)\n",
    "        m.setImposedGradient('StrainZZ', 0)\n",
    "        m.setImposedGradient('StrainXY', 0)\n",
    "        m.setImposedGradient('StrainXZ', 0)\n",
    "        m.setImposedGradient('StrainYZ', 0)\n",
    "        m.setImposedGradient('LiquidPressure', 0)\n",
    "        m.setExternalStateVariable('Temperature', {0:293, 1:333})\n",
    "\n",
    "        m.setMaterialProperty('YoungModulus', 10e9)\n",
    "        m.setMaterialProperty('PoissonRatio', 0.3)\n",
    "        m.setMaterialProperty('ThermalExpansion', 1e-5)\n",
    "        m.setMaterialProperty('BiotCoefficient', 1.0)\n",
    "        m.setMaterialProperty('BishopsExponent', 1.0)\n",
    "        m.setMaterialProperty('ResidualLiquidSaturation', 0.0)\n",
    "        m.setMaterialProperty('ResidualGasSaturation', 0.0)\n",
    "        m.setMaterialProperty('BubblePressure', 5e5)\n",
    "        m.setMaterialProperty('VanGenuchtenExponent_m', 0.4)\n",
    "\n",
    "        output_file = 'isochoric_drained_heating.res'\n",
    "        m.setOutputFileName(output_file)\n",
    "        m.setTimes(list(np.linspace(0,1,11)))\n",
    "        m.execute()"
   ]
  },
  {
   "cell_type": "code",
   "execution_count": 20,
   "metadata": {},
   "outputs": [],
   "source": [
    "isochoric_drained_heating()"
   ]
  },
  {
   "cell_type": "code",
   "execution_count": 21,
   "metadata": {},
   "outputs": [],
   "source": [
    "output_file = 'isochoric_drained_heating.res'\n",
    "results = np.loadtxt(output_file).T"
   ]
  },
  {
   "cell_type": "code",
   "execution_count": 22,
   "metadata": {},
   "outputs": [],
   "source": [
    "#Expected solution. Quick&Dirty, attention if test is changed\n",
    "E = 10e9\n",
    "nu = 0.3\n",
    "alphaTS = 1e-5\n",
    "dT = 40\n",
    "p_eff = 3 * E/(3*(1-2*nu)) * alphaTS * dT"
   ]
  },
  {
   "cell_type": "code",
   "execution_count": 23,
   "metadata": {},
   "outputs": [
    {
     "data": {
      "image/png": "[encoded data removed]",
      "text/plain": [
       "<Figure size 432x288 with 1 Axes>"
      ]
     },
     "metadata": {
      "needs_background": "light"
     },
     "output_type": "display_data"
    }
   ],
   "source": [
    "fig, ax = plt.subplots()\n",
    "ax.plot(results[0],results[8]/1e6,label='numerical')\n",
    "ax.plot(results[0],(-p_eff*results[0]-1e5)/1e6,label='analytical',marker='d',ls='')\n",
    "ax.legend();\n",
    "ax.set_xlabel('$t$ / s')\n",
    "ax.set_ylabel(\"$p'$ / MPa\")\n",
    "fig.tight_layout();"
   ]
  },
  {
   "cell_type": "markdown",
   "metadata": {},
   "source": [
    "The latter is unplausible."
   ]
  },
  {
   "cell_type": "code",
   "execution_count": 25,
   "metadata": {},
   "outputs": [],
   "source": [
    "def uniaxial_isothermal_drainage_imbibition(external_MTest = False):\n",
    "    m    = mtest.MTest()\n",
    "    m.setMaximumNumberOfSubSteps(1)\n",
    "    m.setBehaviour('generic', './src/libBehaviour.so', 'ThermoPoroElasticity')\n",
    "    m.setGradientsInitialValues([0, 0, 0, 0, 0, 0, 0])\n",
    "    m.setThermodynamicForcesInitialValues([0,0,0, 0, 0, 0, 1.0])\n",
    "    m.setImposedThermodynamicForce('StressXX', {0:0, 2:0, 3:-1e6})\n",
    "    m.setImposedGradient('StrainYY', 0)\n",
    "    m.setImposedGradient('StrainZZ', 0)\n",
    "    m.setImposedGradient('StrainXY', 0)\n",
    "    m.setImposedGradient('StrainXZ', 0)\n",
    "    m.setImposedGradient('StrainYZ', 0)\n",
    "    m.setImposedGradient('LiquidPressure', {0:0, 1:-1e7, 2:0, 3.0: 1e6})\n",
    "    m.setExternalStateVariable('Temperature', 293)\n",
    "\n",
    "    m.setMaterialProperty('YoungModulus', 10e9)\n",
    "    m.setMaterialProperty('PoissonRatio', 0.3)\n",
    "    m.setMaterialProperty('ThermalExpansion', 1e-5)\n",
    "    m.setMaterialProperty('BiotCoefficient', 1.0)\n",
    "    m.setMaterialProperty('BishopsExponent', 1.0)\n",
    "    m.setMaterialProperty('ResidualLiquidSaturation', 0.0)\n",
    "    m.setMaterialProperty('ResidualGasSaturation', 0.0)\n",
    "    m.setMaterialProperty('BubblePressure', 5e5)\n",
    "    m.setMaterialProperty('VanGenuchtenExponent_m', 0.4)\n",
    "\n",
    "    output_file = 'uniaxial_isothermal_drainage_imbibition.res'\n",
    "    m.setOutputFileName(output_file)\n",
    "    m.setTimes(list(np.linspace(0,3,301)))\n",
    "    #m.setTimes([0,0.01])\n",
    "    m.execute()"
   ]
  },
  {
   "cell_type": "code",
   "execution_count": 26,
   "metadata": {},
   "outputs": [],
   "source": [
    "uniaxial_isothermal_drainage_imbibition()"
   ]
  },
  {
   "cell_type": "code",
   "execution_count": 27,
   "metadata": {},
   "outputs": [],
   "source": [
    "output_file = 'uniaxial_isothermal_drainage_imbibition.res'\n",
    "results = np.loadtxt(output_file).T"
   ]
  },
  {
   "cell_type": "code",
   "execution_count": 28,
   "metadata": {},
   "outputs": [],
   "source": [
    "def saturation(pcap,c=0.4,a=5e5):\n",
    "    b = 1/(1-c)\n",
    "    return np.power(1+np.power(pcap/a,b),-c)"
   ]
  },
  {
   "cell_type": "code",
   "execution_count": 29,
   "metadata": {},
   "outputs": [
    {
     "data": {
      "image/png": "[encoded data removed]",
      "text/plain": [
       "<Figure size 432x288 with 1 Axes>"
      ]
     },
     "metadata": {
      "needs_background": "light"
     },
     "output_type": "display_data"
    }
   ],
   "source": [
    "fig, ax = plt.subplots()\n",
    "ax.plot(saturation(np.logspace(-3,7,100)),np.logspace(-3,7,100),label='analytical')\n",
    "ax.plot(results[14],-results[7],label='numerical',ls='',marker='d')\n",
    "ax.legend();\n",
    "ax.set_xlabel('$S_\\\\mathrm{L}$')\n",
    "ax.set_ylabel(\"$-p_\\\\mathrm{LR}$ / Pa\")\n",
    "ax.set_yscale('symlog')\n",
    "fig.tight_layout();"
   ]
  },
  {
   "cell_type": "code",
   "execution_count": 30,
   "metadata": {},
   "outputs": [
    {
     "data": {
      "image/png": "[encoded data removed]",
      "text/plain": [
       "<Figure size 432x288 with 1 Axes>"
      ]
     },
     "metadata": {
      "needs_background": "light"
     },
     "output_type": "display_data"
    }
   ],
   "source": [
    "fig, ax = plt.subplots()\n",
    "ax.plot(results[7][:100],results[1][:100],label='drainage',ls='',marker='d')\n",
    "ax.plot(results[7][100:200],results[1][100:200],label='imbibition',ls='',marker='d')\n",
    "ax.plot(results[7][200:],results[1][200:],label='pumping',ls='',marker='d')\n",
    "ax.legend();\n",
    "ax.set_ylabel('$\\\\epsilon_{xx}$')\n",
    "ax.set_xlabel(\"$-p_\\\\mathrm{LR}$ / Pa\")\n",
    "ax.set_xscale('symlog')\n",
    "fig.tight_layout();"
   ]
  },
  {
   "cell_type": "code",
   "execution_count": 31,
   "metadata": {},
   "outputs": [
    {
     "data": {
      "image/png": "[encoded data removed]",
      "text/plain": [
       "<Figure size 432x288 with 1 Axes>"
      ]
     },
     "metadata": {
      "needs_background": "light"
     },
     "output_type": "display_data"
    }
   ],
   "source": [
    "fig, ax = plt.subplots()\n",
    "ax.plot(results[7][:100],results[8][:100]/1e6,label='drainage',ls='',marker='d')\n",
    "ax.plot(results[7][100:200],results[8][100:200]/1e6,label='imbibition',ls='',marker='d')\n",
    "ax.plot(results[7][200:],results[8][200:]/1e6,label='pumping',ls='',marker='d')\n",
    "ax.legend();\n",
    "ax.set_ylabel('$\\\\sigma_{xx}$ / MPa')\n",
    "ax.set_xlabel(\"$-p_\\\\mathrm{LR}$ / Pa\")\n",
    "ax.set_xscale('symlog')\n",
    "fig.tight_layout();"
   ]
  },
  {
   "cell_type": "markdown",
   "metadata": {},
   "source": [
    "---> Expected behaviour."
   ]
  }
 ],
 "metadata": {
  "kernelspec": {
   "display_name": "Python 3 (ipykernel)",
   "language": "python",
   "name": "python3"
  },
  "language_info": {
   "codemirror_mode": {
    "name": "ipython",
    "version": 3
   },
   "file_extension": ".py",
   "mimetype": "text/x-python",
   "name": "python",
   "nbconvert_exporter": "python",
   "pygments_lexer": "ipython3",
   "version": "3.10.4"
  }
 },
 "nbformat": 4,
 "nbformat_minor": 4
}
